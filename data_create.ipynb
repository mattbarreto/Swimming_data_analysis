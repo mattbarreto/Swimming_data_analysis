{
 "cells": [
  {
   "cell_type": "markdown",
   "id": "dd641642-8643-4240-a155-02f41c2cb87a",
   "metadata": {},
   "source": [
    "## En el siguiente script se crea un DataFrame utilizando pandas"
   ]
  },
  {
   "cell_type": "code",
   "execution_count": 1,
   "id": "0c1c7069-52a5-4a3b-b8da-9a3fd7562508",
   "metadata": {},
   "outputs": [],
   "source": [
    "import pandas as pd\n",
    "import numpy as np"
   ]
  },
  {
   "cell_type": "code",
   "execution_count": 2,
   "id": "0773eed8-4bfa-45bf-888d-882b8fc543de",
   "metadata": {},
   "outputs": [],
   "source": [
    "dataFrame = pd.DataFrame ({\n",
    "        'Fecha': ['2023-01-27', '2023-01-25', '2023-01-23', '2023-01-20', '2023-01-18','2023-01-16', '2023-01-14'],\n",
    "        'Hora inicio': ['11:04:00', '08:50:00', '21:06:00', '09:33:00', '09:50:00', '21:04:00', '17:13:00'],\n",
    "        'Hora de finalización': ['', '09:50:00',' ', ' ', ' ', ' ', ' '],\n",
    "        'Duración sesion': ['00:55:18', '01:01:11', '00:37:45', '00:53:54', '00:54:21', '00:33:56', '00:43:00'],\n",
    "        'Tipo entrenamiento': ['Estilos', 'Estilos','Series', 'Series', 'Estilos', 'Series', 'Series'],\n",
    "        'Objetivos': ['Mejorar Tecnica','Mejorar Tecnica', 'Mejorar Tecnica', 'Mejorar Tecnica', 'Resistencia', 'Mejorar Tecnica', 'Prueba'],\n",
    "        'Metas': ['Mejorar crawl','Mejorar crawl', 'Aumentar distancia', 'Incrementar velocidad', 'Incrementar velocidad', '', ''],\n",
    "        'Metros piscina': [20, 20, 20, 20, 20, 20, 5],\n",
    "        'Metros totales': [1420, 1340, 780, 1100, 1220, 820, 240],\n",
    "        'Cantidad de brazadas': [890, 818, 506, 663, 832, 455, 73],\n",
    "        'Frecuencia cardíaca': [135, 131, 134, 137, 137, 135, 116],\n",
    "        'Calorías quemadas': [433, 401, 255, 381, 500, 217, 58],\n",
    "        'Tiempo estilo espalda': ['00:15:00', '00:18:00', '00:15:00', '00:15:00', '00:15:00', '00:15:00', ''],\n",
    "        'Metros estilo espalda': [500, 360, 300, 300, 300, 260,''],\n",
    "        'Repeticiones estilo espalda': [4, 3, 4, 4, 4, 4, ''],\n",
    "        'Tiempo estilo pecho': ['00:15:00', '00:16:00', '00:15:00', '00:17:00', '00:15:00', '00:13:00',''],\n",
    "        'Metros estilo pecho': [300, 360, 300, 300, 400, 360, ''],\n",
    "        'Repeticiones estilo pecho': [3, 3, 2, 2, 2, 2, ''],\n",
    "        'Tiempo estilo crawl': ['00:25:00', '00:10:00', '00:10:00', '00:15:00', '00:12:00', '00:15:00', ''],\n",
    "        'Metros estilo crawl': [600, 300, 300, 300, 200, '', ''],\n",
    "        'Repeticiones estilo crawl': [4, 3, 2, 2, 2, 2, ''],\n",
    "        'Descanso entre series': ['00:00:45', '00:01:00', '00:01:30', '00:01:30', '00:01:30', '00:01:30', '00:01:30'],\n",
    "        'Ritmo promedio': [3.54, 4.34, 4.5, 4.54, 4.27, 4.08, 17.55],\n",
    "        'Vueltas': [71, 67, 39, 55, 61, 41, 12],\n",
    "        'Tiempo ingesta previa': ['01:00:00', '01:00:00', '01:00:00', '01:00:00', '01:00:00', '01:00:00', '01:00:00'],\n",
    "        'Ingesta descripcion': ['Cafe, cereales, banana', 'Cafe, cereales, banana', 'Cafe, banana', 'Cafe, cereales, banana', 'Cafe, panes', 'Cafe, cereales, banana', 'Banana'],\n",
    "        'Suplemento dietario': ['Creatina', 'Creatina', 'Creatina', 'Creatina', 'Creatina', 'Creatina', 'Creatina'],\n",
    "        'Ejercicios previos': ['Caminata', 'Caminata', 'Caminata', 'Caminata', 'Caminata', 'Caminata', 'Caminata'],\n",
    "        'Tiempo ejercicios previos': ['00:00:10', '00:00:10', '00:00:10', '00:00:10', '00:00:10', '00:00:10', '00:00:10'],\n",
    "        'Sensaciones entrenamiento': ['Muy buenas', 'Buenas', 'Buenas', 'Buenas', 'Buenas', 'Buenas', 'Piscina Pequeña'],\n",
    "       })"
   ]
  },
  {
   "cell_type": "markdown",
   "id": "2ed7a38b-d5a1-4d00-9bf8-334481354aad",
   "metadata": {},
   "source": [
    "#### Se convierten formatos, esto facilitará el posterior uso de los datos ###"
   ]
  },
  {
   "cell_type": "code",
   "execution_count": 3,
   "id": "1713a0ce-107c-49b2-947b-4c2087340b7f",
   "metadata": {},
   "outputs": [],
   "source": [
    "dataFrame[['Hora inicio', 'Hora de finalización', 'Duración sesion', 'Tiempo estilo espalda', 'Tiempo estilo pecho', 'Tiempo estilo crawl', 'Descanso entre series', 'Tiempo ingesta previa', 'Tiempo ejercicios previos']] = dataFrame[['Hora inicio', 'Hora de finalización', 'Duración sesion', 'Tiempo estilo espalda', 'Tiempo estilo pecho', 'Tiempo estilo crawl', 'Descanso entre series', 'Tiempo ingesta previa', 'Tiempo ejercicios previos']].apply(pd.to_datetime, format='%H:%M:%S', errors='coerce')"
   ]
  },
  {
   "cell_type": "code",
   "execution_count": 4,
   "id": "4df89435-83bf-4e04-8fca-48f0703745e9",
   "metadata": {},
   "outputs": [],
   "source": [
    "dataFrame['Hora inicio'] = dataFrame['Hora inicio'].dt.time\n",
    "dataFrame['Hora de finalización'] = dataFrame['Hora de finalización'].dt.time\n",
    "dataFrame['Duración sesion'] = dataFrame['Duración sesion'].dt.time\n",
    "dataFrame['Tiempo estilo espalda'] = dataFrame['Tiempo estilo espalda'].dt.time\n",
    "dataFrame['Tiempo estilo pecho'] = dataFrame['Tiempo estilo pecho'].dt.time\n",
    "dataFrame['Tiempo estilo crawl'] = dataFrame['Tiempo estilo crawl'].dt.time\n",
    "dataFrame['Descanso entre series'] = dataFrame['Descanso entre series'].dt.time\n",
    "dataFrame['Tiempo ingesta previa'] = dataFrame['Tiempo ingesta previa'].dt.time\n",
    "dataFrame['Tiempo ejercicios previos'] = dataFrame['Tiempo ejercicios previos'].dt.time"
   ]
  },
  {
   "cell_type": "markdown",
   "id": "b2d4c090-c3e3-4bc5-9b37-1c99efd2e5f7",
   "metadata": {},
   "source": [
    "#### Se visualiza informacion referida al DataFrame creado:\n",
    "\n",
    "Es importante la informacion referida a la candidad de valores no nulos que contiene cada columna y el tipo de datos que se almacena en cada una de ellas (object, int64, float, etc.)"
   ]
  },
  {
   "cell_type": "code",
   "execution_count": 5,
   "id": "d9b2b6fa-3e25-4dee-ad14-ca39fb9a7e2e",
   "metadata": {},
   "outputs": [
    {
     "name": "stdout",
     "output_type": "stream",
     "text": [
      "<class 'pandas.core.frame.DataFrame'>\n",
      "RangeIndex: 7 entries, 0 to 6\n",
      "Data columns (total 30 columns):\n",
      " #   Column                       Non-Null Count  Dtype  \n",
      "---  ------                       --------------  -----  \n",
      " 0   Fecha                        7 non-null      object \n",
      " 1   Hora inicio                  7 non-null      object \n",
      " 2   Hora de finalización         1 non-null      object \n",
      " 3   Duración sesion              7 non-null      object \n",
      " 4   Tipo entrenamiento           7 non-null      object \n",
      " 5   Objetivos                    7 non-null      object \n",
      " 6   Metas                        7 non-null      object \n",
      " 7   Metros piscina               7 non-null      int64  \n",
      " 8   Metros totales               7 non-null      int64  \n",
      " 9   Cantidad de brazadas         7 non-null      int64  \n",
      " 10  Frecuencia cardíaca          7 non-null      int64  \n",
      " 11  Calorías quemadas            7 non-null      int64  \n",
      " 12  Tiempo estilo espalda        6 non-null      object \n",
      " 13  Metros estilo espalda        7 non-null      object \n",
      " 14  Repeticiones estilo espalda  7 non-null      object \n",
      " 15  Tiempo estilo pecho          6 non-null      object \n",
      " 16  Metros estilo pecho          7 non-null      object \n",
      " 17  Repeticiones estilo pecho    7 non-null      object \n",
      " 18  Tiempo estilo crawl          6 non-null      object \n",
      " 19  Metros estilo crawl          7 non-null      object \n",
      " 20  Repeticiones estilo crawl    7 non-null      object \n",
      " 21  Descanso entre series        7 non-null      object \n",
      " 22  Ritmo promedio               7 non-null      float64\n",
      " 23  Vueltas                      7 non-null      int64  \n",
      " 24  Tiempo ingesta previa        7 non-null      object \n",
      " 25  Ingesta descripcion          7 non-null      object \n",
      " 26  Suplemento dietario          7 non-null      object \n",
      " 27  Ejercicios previos           7 non-null      object \n",
      " 28  Tiempo ejercicios previos    7 non-null      object \n",
      " 29  Sensaciones entrenamiento    7 non-null      object \n",
      "dtypes: float64(1), int64(6), object(23)\n",
      "memory usage: 1.8+ KB\n",
      "None\n"
     ]
    }
   ],
   "source": [
    "print(dataFrame.info())"
   ]
  },
  {
   "cell_type": "markdown",
   "id": "56453c65-a8b3-45ec-aa0c-01e1869c1f41",
   "metadata": {},
   "source": [
    "#### Se pide informacion y se visualizan, por defecto, las primeras 5 filas del dataFrame"
   ]
  },
  {
   "cell_type": "code",
   "execution_count": 6,
   "id": "ecbb5e31-fb93-4a53-9574-cf1056463b3d",
   "metadata": {},
   "outputs": [
    {
     "data": {
      "text/html": [
       "<div>\n",
       "<style scoped>\n",
       "    .dataframe tbody tr th:only-of-type {\n",
       "        vertical-align: middle;\n",
       "    }\n",
       "\n",
       "    .dataframe tbody tr th {\n",
       "        vertical-align: top;\n",
       "    }\n",
       "\n",
       "    .dataframe thead th {\n",
       "        text-align: right;\n",
       "    }\n",
       "</style>\n",
       "<table border=\"1\" class=\"dataframe\">\n",
       "  <thead>\n",
       "    <tr style=\"text-align: right;\">\n",
       "      <th></th>\n",
       "      <th>Fecha</th>\n",
       "      <th>Hora inicio</th>\n",
       "      <th>Hora de finalización</th>\n",
       "      <th>Duración sesion</th>\n",
       "      <th>Tipo entrenamiento</th>\n",
       "      <th>Objetivos</th>\n",
       "      <th>Metas</th>\n",
       "      <th>Metros piscina</th>\n",
       "      <th>Metros totales</th>\n",
       "      <th>Cantidad de brazadas</th>\n",
       "      <th>...</th>\n",
       "      <th>Repeticiones estilo crawl</th>\n",
       "      <th>Descanso entre series</th>\n",
       "      <th>Ritmo promedio</th>\n",
       "      <th>Vueltas</th>\n",
       "      <th>Tiempo ingesta previa</th>\n",
       "      <th>Ingesta descripcion</th>\n",
       "      <th>Suplemento dietario</th>\n",
       "      <th>Ejercicios previos</th>\n",
       "      <th>Tiempo ejercicios previos</th>\n",
       "      <th>Sensaciones entrenamiento</th>\n",
       "    </tr>\n",
       "  </thead>\n",
       "  <tbody>\n",
       "    <tr>\n",
       "      <th>0</th>\n",
       "      <td>2023-01-27</td>\n",
       "      <td>11:04:00</td>\n",
       "      <td>NaT</td>\n",
       "      <td>00:55:18</td>\n",
       "      <td>Estilos</td>\n",
       "      <td>Mejorar Tecnica</td>\n",
       "      <td>Mejorar crawl</td>\n",
       "      <td>20</td>\n",
       "      <td>1420</td>\n",
       "      <td>890</td>\n",
       "      <td>...</td>\n",
       "      <td>4</td>\n",
       "      <td>00:00:45</td>\n",
       "      <td>3.54</td>\n",
       "      <td>71</td>\n",
       "      <td>01:00:00</td>\n",
       "      <td>Cafe, cereales, banana</td>\n",
       "      <td>Creatina</td>\n",
       "      <td>Caminata</td>\n",
       "      <td>00:00:10</td>\n",
       "      <td>Muy buenas</td>\n",
       "    </tr>\n",
       "    <tr>\n",
       "      <th>1</th>\n",
       "      <td>2023-01-25</td>\n",
       "      <td>08:50:00</td>\n",
       "      <td>09:50:00</td>\n",
       "      <td>01:01:11</td>\n",
       "      <td>Estilos</td>\n",
       "      <td>Mejorar Tecnica</td>\n",
       "      <td>Mejorar crawl</td>\n",
       "      <td>20</td>\n",
       "      <td>1340</td>\n",
       "      <td>818</td>\n",
       "      <td>...</td>\n",
       "      <td>3</td>\n",
       "      <td>00:01:00</td>\n",
       "      <td>4.34</td>\n",
       "      <td>67</td>\n",
       "      <td>01:00:00</td>\n",
       "      <td>Cafe, cereales, banana</td>\n",
       "      <td>Creatina</td>\n",
       "      <td>Caminata</td>\n",
       "      <td>00:00:10</td>\n",
       "      <td>Buenas</td>\n",
       "    </tr>\n",
       "    <tr>\n",
       "      <th>2</th>\n",
       "      <td>2023-01-23</td>\n",
       "      <td>21:06:00</td>\n",
       "      <td>NaT</td>\n",
       "      <td>00:37:45</td>\n",
       "      <td>Series</td>\n",
       "      <td>Mejorar Tecnica</td>\n",
       "      <td>Aumentar distancia</td>\n",
       "      <td>20</td>\n",
       "      <td>780</td>\n",
       "      <td>506</td>\n",
       "      <td>...</td>\n",
       "      <td>2</td>\n",
       "      <td>00:01:30</td>\n",
       "      <td>4.50</td>\n",
       "      <td>39</td>\n",
       "      <td>01:00:00</td>\n",
       "      <td>Cafe, banana</td>\n",
       "      <td>Creatina</td>\n",
       "      <td>Caminata</td>\n",
       "      <td>00:00:10</td>\n",
       "      <td>Buenas</td>\n",
       "    </tr>\n",
       "    <tr>\n",
       "      <th>3</th>\n",
       "      <td>2023-01-20</td>\n",
       "      <td>09:33:00</td>\n",
       "      <td>NaT</td>\n",
       "      <td>00:53:54</td>\n",
       "      <td>Series</td>\n",
       "      <td>Mejorar Tecnica</td>\n",
       "      <td>Incrementar velocidad</td>\n",
       "      <td>20</td>\n",
       "      <td>1100</td>\n",
       "      <td>663</td>\n",
       "      <td>...</td>\n",
       "      <td>2</td>\n",
       "      <td>00:01:30</td>\n",
       "      <td>4.54</td>\n",
       "      <td>55</td>\n",
       "      <td>01:00:00</td>\n",
       "      <td>Cafe, cereales, banana</td>\n",
       "      <td>Creatina</td>\n",
       "      <td>Caminata</td>\n",
       "      <td>00:00:10</td>\n",
       "      <td>Buenas</td>\n",
       "    </tr>\n",
       "    <tr>\n",
       "      <th>4</th>\n",
       "      <td>2023-01-18</td>\n",
       "      <td>09:50:00</td>\n",
       "      <td>NaT</td>\n",
       "      <td>00:54:21</td>\n",
       "      <td>Estilos</td>\n",
       "      <td>Resistencia</td>\n",
       "      <td>Incrementar velocidad</td>\n",
       "      <td>20</td>\n",
       "      <td>1220</td>\n",
       "      <td>832</td>\n",
       "      <td>...</td>\n",
       "      <td>2</td>\n",
       "      <td>00:01:30</td>\n",
       "      <td>4.27</td>\n",
       "      <td>61</td>\n",
       "      <td>01:00:00</td>\n",
       "      <td>Cafe, panes</td>\n",
       "      <td>Creatina</td>\n",
       "      <td>Caminata</td>\n",
       "      <td>00:00:10</td>\n",
       "      <td>Buenas</td>\n",
       "    </tr>\n",
       "  </tbody>\n",
       "</table>\n",
       "<p>5 rows × 30 columns</p>\n",
       "</div>"
      ],
      "text/plain": [
       "        Fecha Hora inicio Hora de finalización Duración sesion  \\\n",
       "0  2023-01-27    11:04:00                  NaT        00:55:18   \n",
       "1  2023-01-25    08:50:00             09:50:00        01:01:11   \n",
       "2  2023-01-23    21:06:00                  NaT        00:37:45   \n",
       "3  2023-01-20    09:33:00                  NaT        00:53:54   \n",
       "4  2023-01-18    09:50:00                  NaT        00:54:21   \n",
       "\n",
       "  Tipo entrenamiento        Objetivos                  Metas  Metros piscina  \\\n",
       "0            Estilos  Mejorar Tecnica          Mejorar crawl              20   \n",
       "1            Estilos  Mejorar Tecnica          Mejorar crawl              20   \n",
       "2             Series  Mejorar Tecnica     Aumentar distancia              20   \n",
       "3             Series  Mejorar Tecnica  Incrementar velocidad              20   \n",
       "4            Estilos      Resistencia  Incrementar velocidad              20   \n",
       "\n",
       "   Metros totales  Cantidad de brazadas  ...  Repeticiones estilo crawl  \\\n",
       "0            1420                   890  ...                          4   \n",
       "1            1340                   818  ...                          3   \n",
       "2             780                   506  ...                          2   \n",
       "3            1100                   663  ...                          2   \n",
       "4            1220                   832  ...                          2   \n",
       "\n",
       "   Descanso entre series Ritmo promedio Vueltas Tiempo ingesta previa  \\\n",
       "0               00:00:45           3.54      71              01:00:00   \n",
       "1               00:01:00           4.34      67              01:00:00   \n",
       "2               00:01:30           4.50      39              01:00:00   \n",
       "3               00:01:30           4.54      55              01:00:00   \n",
       "4               00:01:30           4.27      61              01:00:00   \n",
       "\n",
       "      Ingesta descripcion Suplemento dietario Ejercicios previos  \\\n",
       "0  Cafe, cereales, banana            Creatina           Caminata   \n",
       "1  Cafe, cereales, banana            Creatina           Caminata   \n",
       "2            Cafe, banana            Creatina           Caminata   \n",
       "3  Cafe, cereales, banana            Creatina           Caminata   \n",
       "4             Cafe, panes            Creatina           Caminata   \n",
       "\n",
       "  Tiempo ejercicios previos Sensaciones entrenamiento  \n",
       "0                  00:00:10                Muy buenas  \n",
       "1                  00:00:10                    Buenas  \n",
       "2                  00:00:10                    Buenas  \n",
       "3                  00:00:10                    Buenas  \n",
       "4                  00:00:10                    Buenas  \n",
       "\n",
       "[5 rows x 30 columns]"
      ]
     },
     "execution_count": 6,
     "metadata": {},
     "output_type": "execute_result"
    }
   ],
   "source": [
    "dataFrame.head()"
   ]
  },
  {
   "cell_type": "markdown",
   "id": "6815f0b0-1585-4f31-8cbb-bdb984441eb4",
   "metadata": {},
   "source": [
    "#### Exportar DataFrame a un archivo excel"
   ]
  },
  {
   "cell_type": "code",
   "execution_count": 7,
   "id": "d84dc797-8133-455d-9001-5108745a55c4",
   "metadata": {},
   "outputs": [],
   "source": [
    "dataFrame.to_excel(r'/home/studio-lab-user/Swimming Data Analysis/Data/test_data.xlsx', index=False)"
   ]
  },
  {
   "cell_type": "markdown",
   "id": "05072cef-5a4b-4619-8f5a-d2cefe015865",
   "metadata": {},
   "source": [
    "## A continuacion se ven algunas operaciones posibles de realizar sobre el dataFrame:"
   ]
  },
  {
   "cell_type": "markdown",
   "id": "c1e4dc49-2ce5-427b-b0ed-803e4adb0f9e",
   "metadata": {},
   "source": [
    "Para poder manipular informacion a traves de codigo es necesario llenar los espacios vacios de los titulos de las columnas"
   ]
  },
  {
   "cell_type": "code",
   "execution_count": 8,
   "id": "fcaf511c-795a-43b4-8975-e5ead6158bf6",
   "metadata": {},
   "outputs": [],
   "source": [
    "dataFrame.columns = dataFrame.columns.str.replace(\" \", \"_\")"
   ]
  },
  {
   "cell_type": "markdown",
   "id": "420f621e-14eb-4034-ba65-469c68ece198",
   "metadata": {},
   "source": [
    "Se puede pedir informacion referida a una columna en particular en particular"
   ]
  },
  {
   "cell_type": "code",
   "execution_count": 9,
   "id": "6f63b8b5-c6af-4d8a-9bd4-56eea70d712e",
   "metadata": {},
   "outputs": [
    {
     "data": {
      "text/plain": [
       "0    20\n",
       "1    20\n",
       "2    20\n",
       "3    20\n",
       "4    20\n",
       "5    20\n",
       "6     5\n",
       "Name: Metros_piscina, dtype: int64"
      ]
     },
     "execution_count": 9,
     "metadata": {},
     "output_type": "execute_result"
    }
   ],
   "source": [
    "dataFrame.Metros_piscina"
   ]
  },
  {
   "cell_type": "markdown",
   "id": "ba6ac47d-7e05-4929-ac71-6cbf30d37b93",
   "metadata": {},
   "source": [
    "Tambien, se puede pedir informacion referida a una rango de filas"
   ]
  },
  {
   "cell_type": "code",
   "execution_count": 10,
   "id": "7cdc86e2-b76d-4acc-b68a-da65de0f095d",
   "metadata": {},
   "outputs": [
    {
     "data": {
      "text/html": [
       "<div>\n",
       "<style scoped>\n",
       "    .dataframe tbody tr th:only-of-type {\n",
       "        vertical-align: middle;\n",
       "    }\n",
       "\n",
       "    .dataframe tbody tr th {\n",
       "        vertical-align: top;\n",
       "    }\n",
       "\n",
       "    .dataframe thead th {\n",
       "        text-align: right;\n",
       "    }\n",
       "</style>\n",
       "<table border=\"1\" class=\"dataframe\">\n",
       "  <thead>\n",
       "    <tr style=\"text-align: right;\">\n",
       "      <th></th>\n",
       "      <th>Fecha</th>\n",
       "      <th>Hora_inicio</th>\n",
       "      <th>Hora_de_finalización</th>\n",
       "      <th>Duración_sesion</th>\n",
       "      <th>Tipo_entrenamiento</th>\n",
       "      <th>Objetivos</th>\n",
       "      <th>Metas</th>\n",
       "      <th>Metros_piscina</th>\n",
       "      <th>Metros_totales</th>\n",
       "      <th>Cantidad_de_brazadas</th>\n",
       "      <th>...</th>\n",
       "      <th>Repeticiones_estilo_crawl</th>\n",
       "      <th>Descanso_entre_series</th>\n",
       "      <th>Ritmo_promedio</th>\n",
       "      <th>Vueltas</th>\n",
       "      <th>Tiempo_ingesta_previa</th>\n",
       "      <th>Ingesta_descripcion</th>\n",
       "      <th>Suplemento_dietario</th>\n",
       "      <th>Ejercicios_previos</th>\n",
       "      <th>Tiempo_ejercicios_previos</th>\n",
       "      <th>Sensaciones_entrenamiento</th>\n",
       "    </tr>\n",
       "  </thead>\n",
       "  <tbody>\n",
       "    <tr>\n",
       "      <th>1</th>\n",
       "      <td>2023-01-25</td>\n",
       "      <td>08:50:00</td>\n",
       "      <td>09:50:00</td>\n",
       "      <td>01:01:11</td>\n",
       "      <td>Estilos</td>\n",
       "      <td>Mejorar Tecnica</td>\n",
       "      <td>Mejorar crawl</td>\n",
       "      <td>20</td>\n",
       "      <td>1340</td>\n",
       "      <td>818</td>\n",
       "      <td>...</td>\n",
       "      <td>3</td>\n",
       "      <td>00:01:00</td>\n",
       "      <td>4.34</td>\n",
       "      <td>67</td>\n",
       "      <td>01:00:00</td>\n",
       "      <td>Cafe, cereales, banana</td>\n",
       "      <td>Creatina</td>\n",
       "      <td>Caminata</td>\n",
       "      <td>00:00:10</td>\n",
       "      <td>Buenas</td>\n",
       "    </tr>\n",
       "    <tr>\n",
       "      <th>2</th>\n",
       "      <td>2023-01-23</td>\n",
       "      <td>21:06:00</td>\n",
       "      <td>NaT</td>\n",
       "      <td>00:37:45</td>\n",
       "      <td>Series</td>\n",
       "      <td>Mejorar Tecnica</td>\n",
       "      <td>Aumentar distancia</td>\n",
       "      <td>20</td>\n",
       "      <td>780</td>\n",
       "      <td>506</td>\n",
       "      <td>...</td>\n",
       "      <td>2</td>\n",
       "      <td>00:01:30</td>\n",
       "      <td>4.50</td>\n",
       "      <td>39</td>\n",
       "      <td>01:00:00</td>\n",
       "      <td>Cafe, banana</td>\n",
       "      <td>Creatina</td>\n",
       "      <td>Caminata</td>\n",
       "      <td>00:00:10</td>\n",
       "      <td>Buenas</td>\n",
       "    </tr>\n",
       "  </tbody>\n",
       "</table>\n",
       "<p>2 rows × 30 columns</p>\n",
       "</div>"
      ],
      "text/plain": [
       "        Fecha Hora_inicio Hora_de_finalización Duración_sesion  \\\n",
       "1  2023-01-25    08:50:00             09:50:00        01:01:11   \n",
       "2  2023-01-23    21:06:00                  NaT        00:37:45   \n",
       "\n",
       "  Tipo_entrenamiento        Objetivos               Metas  Metros_piscina  \\\n",
       "1            Estilos  Mejorar Tecnica       Mejorar crawl              20   \n",
       "2             Series  Mejorar Tecnica  Aumentar distancia              20   \n",
       "\n",
       "   Metros_totales  Cantidad_de_brazadas  ...  Repeticiones_estilo_crawl  \\\n",
       "1            1340                   818  ...                          3   \n",
       "2             780                   506  ...                          2   \n",
       "\n",
       "   Descanso_entre_series Ritmo_promedio Vueltas Tiempo_ingesta_previa  \\\n",
       "1               00:01:00           4.34      67              01:00:00   \n",
       "2               00:01:30           4.50      39              01:00:00   \n",
       "\n",
       "      Ingesta_descripcion Suplemento_dietario Ejercicios_previos  \\\n",
       "1  Cafe, cereales, banana            Creatina           Caminata   \n",
       "2            Cafe, banana            Creatina           Caminata   \n",
       "\n",
       "  Tiempo_ejercicios_previos Sensaciones_entrenamiento  \n",
       "1                  00:00:10                    Buenas  \n",
       "2                  00:00:10                    Buenas  \n",
       "\n",
       "[2 rows x 30 columns]"
      ]
     },
     "execution_count": 10,
     "metadata": {},
     "output_type": "execute_result"
    }
   ],
   "source": [
    "dataFrame.iloc[1:3]"
   ]
  },
  {
   "cell_type": "markdown",
   "id": "6f220ae7-665b-4a69-957a-af64e81be6c8",
   "metadata": {},
   "source": [
    "Se puede pedir informacion de un rango especifico de filas y columnas"
   ]
  },
  {
   "cell_type": "code",
   "execution_count": null,
   "id": "4515d81d-0f0c-4e8d-8388-34912c07d55c",
   "metadata": {},
   "outputs": [
    {
     "data": {
      "text/html": [
       "<div>\n",
       "<style scoped>\n",
       "    .dataframe tbody tr th:only-of-type {\n",
       "        vertical-align: middle;\n",
       "    }\n",
       "\n",
       "    .dataframe tbody tr th {\n",
       "        vertical-align: top;\n",
       "    }\n",
       "\n",
       "    .dataframe thead th {\n",
       "        text-align: right;\n",
       "    }\n",
       "</style>\n",
       "<table border=\"1\" class=\"dataframe\">\n",
       "  <thead>\n",
       "    <tr style=\"text-align: right;\">\n",
       "      <th></th>\n",
       "      <th>Metros_estilo_pecho</th>\n",
       "      <th>Metros_estilo_espalda</th>\n",
       "      <th>Metros_estilo_crawl</th>\n",
       "    </tr>\n",
       "  </thead>\n",
       "  <tbody>\n",
       "    <tr>\n",
       "      <th>0</th>\n",
       "      <td>300</td>\n",
       "      <td>500</td>\n",
       "      <td>600</td>\n",
       "    </tr>\n",
       "    <tr>\n",
       "      <th>1</th>\n",
       "      <td>360</td>\n",
       "      <td>360</td>\n",
       "      <td>300</td>\n",
       "    </tr>\n",
       "    <tr>\n",
       "      <th>2</th>\n",
       "      <td>300</td>\n",
       "      <td>300</td>\n",
       "      <td>300</td>\n",
       "    </tr>\n",
       "    <tr>\n",
       "      <th>3</th>\n",
       "      <td>300</td>\n",
       "      <td>300</td>\n",
       "      <td>300</td>\n",
       "    </tr>\n",
       "    <tr>\n",
       "      <th>4</th>\n",
       "      <td>400</td>\n",
       "      <td>300</td>\n",
       "      <td>200</td>\n",
       "    </tr>\n",
       "    <tr>\n",
       "      <th>5</th>\n",
       "      <td>360</td>\n",
       "      <td>260</td>\n",
       "      <td></td>\n",
       "    </tr>\n",
       "    <tr>\n",
       "      <th>6</th>\n",
       "      <td></td>\n",
       "      <td></td>\n",
       "      <td></td>\n",
       "    </tr>\n",
       "  </tbody>\n",
       "</table>\n",
       "</div>"
      ],
      "text/plain": [
       "  Metros_estilo_pecho Metros_estilo_espalda Metros_estilo_crawl\n",
       "0                 300                   500                 600\n",
       "1                 360                   360                 300\n",
       "2                 300                   300                 300\n",
       "3                 300                   300                 300\n",
       "4                 400                   300                 200\n",
       "5                 360                   260                    \n",
       "6                                                              "
      ]
     },
     "execution_count": 11,
     "metadata": {},
     "output_type": "execute_result"
    }
   ],
   "source": [
    "dataFrame.loc[0:, ['Metros_estilo_pecho', 'Metros_estilo_espalda', 'Metros_estilo_crawl']]"
   ]
  },
  {
   "cell_type": "markdown",
   "id": "11dec342-697a-49e9-b6c8-8a0ad017ec56",
   "metadata": {},
   "source": [
    "### Operaciones de conversion de tipo de datos"
   ]
  },
  {
   "cell_type": "code",
   "execution_count": null,
   "id": "13fdbd5b-8ece-4845-bd94-4e081dfa64a0",
   "metadata": {},
   "outputs": [],
   "source": [
    "dataFrame['Metros_estilo_crawl'].replace('', np.NaN, inplace=True)"
   ]
  },
  {
   "cell_type": "code",
   "execution_count": null,
   "id": "1fa5f60f-46b0-4f76-ab44-232c06d138aa",
   "metadata": {},
   "outputs": [],
   "source": [
    "dataFrame['Metros_estilo_crawl'] = dataFrame['Metros_estilo_crawl'].astype(float)"
   ]
  },
  {
   "cell_type": "markdown",
   "id": "9d099a73-d197-4ca6-89e0-534eac5bf658",
   "metadata": {},
   "source": [
    "### Operaciones de seleccion de informacion"
   ]
  },
  {
   "cell_type": "code",
   "execution_count": null,
   "id": "bfda0d81-557e-4d9c-8496-16d52a3ec90a",
   "metadata": {},
   "outputs": [],
   "source": [
    "dataFrame.loc[(dataFrame.Tipo_entrenamiento == 'Estilos') & (dataFrame.Metros_estilo_crawl >= 200)]"
   ]
  },
  {
   "cell_type": "markdown",
   "id": "9a900559-51cb-4139-b439-d494da7ff62d",
   "metadata": {},
   "source": [
    "### Visualizar cantidad de valores de un campo"
   ]
  },
  {
   "cell_type": "code",
   "execution_count": null,
   "id": "25932f3a-d6e0-4dec-bd49-efb887528487",
   "metadata": {},
   "outputs": [],
   "source": [
    "print(dataFrame.Metas.value_counts())"
   ]
  },
  {
   "cell_type": "markdown",
   "id": "84ef0ad2-9b87-4197-8cf0-0cc6b4c3813d",
   "metadata": {},
   "source": [
    "### Generacion de nuevos agrupamientos"
   ]
  },
  {
   "cell_type": "code",
   "execution_count": null,
   "id": "f3148c8e-12b0-4a61-834e-8d39d1cf0723",
   "metadata": {},
   "outputs": [],
   "source": [
    "dataFrame.groupby('Tipo_entrenamiento').Tiempo_estilo_crawl.max()"
   ]
  },
  {
   "cell_type": "code",
   "execution_count": null,
   "id": "353a10c5-223c-44c0-862a-609216edd96b",
   "metadata": {},
   "outputs": [],
   "source": [
    "dataFrame.groupby(['Tipo_entrenamiento']).Tiempo_estilo_crawl.agg([len, min, max])"
   ]
  },
  {
   "cell_type": "code",
   "execution_count": null,
   "id": "98a1498b-1898-4214-8170-13f9544a1233",
   "metadata": {},
   "outputs": [],
   "source": [
    "info_repeticiones = dataFrame.groupby(['Tipo_entrenamiento', 'Repeticiones_estilo_espalda', 'Repeticiones_estilo_pecho', 'Repeticiones_estilo_crawl']).Tipo_entrenamiento.agg([len])\n",
    "info_repeticiones"
   ]
  },
  {
   "cell_type": "code",
   "execution_count": null,
   "id": "300b5979-2634-4761-bb50-87bb97ec2560",
   "metadata": {},
   "outputs": [],
   "source": [
    "mi_new_data = info_repeticiones.index\n",
    "type(mi_new_data)"
   ]
  }
 ],
 "metadata": {
  "kernelspec": {
   "display_name": "default:Python",
   "language": "python",
   "name": "conda-env-default-py"
  },
  "language_info": {
   "codemirror_mode": {
    "name": "ipython",
    "version": 3
   },
   "file_extension": ".py",
   "mimetype": "text/x-python",
   "name": "python",
   "nbconvert_exporter": "python",
   "pygments_lexer": "ipython3",
   "version": "3.9.13"
  }
 },
 "nbformat": 4,
 "nbformat_minor": 5
}
